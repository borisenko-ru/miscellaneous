{
 "cells": [
  {
   "cell_type": "code",
   "execution_count": 1,
   "metadata": {},
   "outputs": [],
   "source": [
    "class Human:\n",
    "    ''' Test\n",
    "    '''\n",
    "    def __init__(self, height, weight, nationality):\n",
    "        self.height = height\n",
    "        self.weight = weight\n",
    "        self.nationality = nationality\n",
    "        \n",
    "    def skin_color(self):\n",
    "        if self.nationality == 'African':\n",
    "            return str('Black')\n",
    "        elif self.nationality == 'European':\n",
    "            return str('White')\n",
    "        elif self.nationality == \"Asian\":\n",
    "            return str('Yellow')\n",
    "        else:\n",
    "            return str('Unknown')\n",
    "        \n",
    "    def shape(self):\n",
    "        if self.height >= 180:\n",
    "            return str('Tall')\n",
    "        else:\n",
    "            return str('Short')\n"
   ]
  },
  {
   "cell_type": "code",
   "execution_count": 2,
   "metadata": {},
   "outputs": [
    {
     "name": "stdout",
     "output_type": "stream",
     "text": [
      "Enter height (cm): 190\n",
      "Enter nationality: Asian\n",
      "Takeshi shape: Tall\n",
      "Takeshi skin color: Yellow\n"
     ]
    }
   ],
   "source": [
    "takeshi_kitana = Human(height=int(input('Enter height (cm): ')), weight=None, nationality=input('Enter nationality: '))\n",
    "print('Takeshi shape:', takeshi_kitana.shape())\n",
    "print('Takeshi skin color:', takeshi_kitana.skin_color())\n"
   ]
  }
 ],
 "metadata": {
  "kernelspec": {
   "display_name": "Python 3",
   "language": "python",
   "name": "python3"
  },
  "language_info": {
   "codemirror_mode": {
    "name": "ipython",
    "version": 3
   },
   "file_extension": ".py",
   "mimetype": "text/x-python",
   "name": "python",
   "nbconvert_exporter": "python",
   "pygments_lexer": "ipython3",
   "version": "3.8.5"
  }
 },
 "nbformat": 4,
 "nbformat_minor": 4
}
